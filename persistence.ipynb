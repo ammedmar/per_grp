{
 "cells": [
  {
   "cell_type": "markdown",
   "id": "26ebcbca",
   "metadata": {},
   "source": [
    "## Graphs"
   ]
  },
  {
   "cell_type": "code",
   "execution_count": null,
   "id": "027d9f6f",
   "metadata": {},
   "outputs": [],
   "source": [
    "import numpy as np\n",
    "import matplotlib.pyplot as plt\n",
    "import random\n",
    "import networkx as nx\n",
    "import gudhi as gd"
   ]
  },
  {
   "cell_type": "markdown",
   "id": "b84ffeb3",
   "metadata": {},
   "source": [
    "Choose a graph"
   ]
  },
  {
   "cell_type": "code",
   "execution_count": null,
   "id": "e838e810",
   "metadata": {},
   "outputs": [],
   "source": [
    "# g = nx.erdos_renyi_graph(100, 0.1)\n",
    "g = nx.watts_strogatz_graph(100, 5, 0.1)\n",
    "# g = nx.barabasi_albert_graph(100, 5)\n",
    "\n",
    "nx.draw(g, with_labels=False)\n",
    "plt.show()"
   ]
  },
  {
   "cell_type": "markdown",
   "id": "c57e54a2",
   "metadata": {},
   "source": [
    "Generate random weights for the nodes"
   ]
  },
  {
   "cell_type": "code",
   "execution_count": null,
   "id": "52091cd7",
   "metadata": {},
   "outputs": [],
   "source": [
    "# number of nodes\n",
    "num = nx.number_of_nodes(g)\n",
    "\n",
    "# Maximum value of weights\n",
    "max_weight = 3*num\n",
    "\n",
    "# Random weights as 1D array\n",
    "weights = random.choices(range(1, max_weight), k=num)\n",
    "weights = np.array(weights)"
   ]
  },
  {
   "cell_type": "markdown",
   "id": "ce832ee5",
   "metadata": {},
   "source": [
    "Adjacency matrix filtered as required for SimplexTree "
   ]
  },
  {
   "cell_type": "code",
   "execution_count": null,
   "id": "f29c2323",
   "metadata": {},
   "outputs": [],
   "source": [
    "# Obtain adjacency matrix\n",
    "adj = nx.to_numpy_array(g)\n",
    "\n",
    "# All values of 0 to infinity\n",
    "adj[adj == 0] = np.inf\n",
    "\n",
    "# Fill diagonal with weights\n",
    "np.fill_diagonal(adj, weights)\n",
    "\n",
    "# Get the maximum of the ith and jth entries in weights for each (i, j)\n",
    "weights_max = np.maximum(weights[:, None], weights)\n",
    "\n",
    "# Replace the (i,j)-values that are less than np.inf\n",
    "adj = np.where(adj < np.inf, weights_max, adj)"
   ]
  },
  {
   "cell_type": "markdown",
   "id": "d4c85b1f",
   "metadata": {},
   "source": [
    "## Persistence"
   ]
  },
  {
   "cell_type": "code",
   "execution_count": null,
   "id": "f498928c",
   "metadata": {
    "scrolled": true
   },
   "outputs": [],
   "source": [
    "# Filtered 1D complex as a simplex tree\n",
    "st = gd.SimplexTree.create_from_array(adj, max_filtration=max_weight)\n",
    "\n",
    "# Compute barcode - True for deg 1 as well \n",
    "barcode = st.persistence(persistence_dim_max=False)\n",
    "\n",
    "# Visualize barcode\n",
    "gd.plot_persistence_barcode(barcode)"
   ]
  }
 ],
 "metadata": {
  "kernelspec": {
   "display_name": "venv",
   "language": "python",
   "name": "venv"
  },
  "language_info": {
   "codemirror_mode": {
    "name": "ipython",
    "version": 3
   },
   "file_extension": ".py",
   "mimetype": "text/x-python",
   "name": "python",
   "nbconvert_exporter": "python",
   "pygments_lexer": "ipython3",
   "version": "3.10.6"
  }
 },
 "nbformat": 4,
 "nbformat_minor": 5
}
